{
 "cells": [
  {
   "cell_type": "code",
   "execution_count": 17,
   "id": "92f67f39",
   "metadata": {},
   "outputs": [
    {
     "name": "stdout",
     "output_type": "stream",
     "text": [
      "False\n",
      "{'a': 'X'}\n"
     ]
    }
   ],
   "source": [
    "def unify(var, x, substitution):\n",
    "    \"\"\"\n",
    "    Unifies a variable var with a term x, updating the substitution if necessary.\n",
    "    \"\"\"\n",
    "    if var == x:\n",
    "        return substitution\n",
    "    elif isinstance(var, str) and var.islower():\n",
    "        return unify_var(var, x, substitution)\n",
    "    elif isinstance(x, str) and x.islower():\n",
    "        return unify_var(x, var, substitution)\n",
    "    elif isinstance(var, list) and isinstance(x, list):\n",
    "        if len(var) != len(x):\n",
    "            return False\n",
    "        else:\n",
    "            for var_item, x_item in zip(var, x):\n",
    "                substitution = unify(var_item, x_item, substitution)\n",
    "            return substitution\n",
    "    else:\n",
    "        return False\n",
    "\n",
    "def unify_var(var, x, substitution):\n",
    "    \"\"\"\n",
    "    Unifies a variable with a term when the variable is lowercase.\n",
    "    \"\"\"\n",
    "    if var in substitution:\n",
    "        return unify(substitution[var], x, substitution)\n",
    "    elif x in substitution:\n",
    "        return unify(var, substitution[x], substitution)\n",
    "    else:\n",
    "        substitution[var] = x\n",
    "        return substitution\n",
    "\n",
    "substitution = {}\n",
    "\n",
    "# Example 1: Unifying two variables\n",
    "print(unify('X', 'Y', substitution))  # Output: {'X': 'Y'}\n",
    "\n",
    "# Example 2: Unifying a variable with a constant\n",
    "print(unify('X', 'a', substitution))\n"
   ]
  },
  {
   "cell_type": "code",
   "execution_count": null,
   "id": "c62c27cf",
   "metadata": {},
   "outputs": [],
   "source": []
  },
  {
   "cell_type": "code",
   "execution_count": null,
   "id": "2db7ed87",
   "metadata": {},
   "outputs": [],
   "source": []
  }
 ],
 "metadata": {
  "kernelspec": {
   "display_name": "Python 3 (ipykernel)",
   "language": "python",
   "name": "python3"
  },
  "language_info": {
   "codemirror_mode": {
    "name": "ipython",
    "version": 3
   },
   "file_extension": ".py",
   "mimetype": "text/x-python",
   "name": "python",
   "nbconvert_exporter": "python",
   "pygments_lexer": "ipython3",
   "version": "3.11.5"
  }
 },
 "nbformat": 4,
 "nbformat_minor": 5
}
