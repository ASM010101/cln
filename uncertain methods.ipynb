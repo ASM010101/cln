{
 "cells": [
  {
   "cell_type": "code",
   "execution_count": 18,
   "id": "da8698a2",
   "metadata": {},
   "outputs": [
    {
     "name": "stdout",
     "output_type": "stream",
     "text": [
      "Option2\n",
      "Option1\n",
      "Option1\n",
      "Option1\n",
      "Option3\n",
      "Option3\n",
      "Option1\n",
      "Option1\n",
      "Option3\n",
      "Option2\n"
     ]
    }
   ],
   "source": [
    "import numpy as np\n",
    "\n",
    "def uncertain_method(probabilities):\n",
    "    \"\"\"\n",
    "    Implements an uncertain method that selects an option based on probabilities.\n",
    "    \"\"\"\n",
    "    options = list(probabilities.keys())\n",
    "    probs = list(probabilities.values())\n",
    "    \n",
    "    # Normalize probabilities\n",
    "    probs /= np.sum(probs)\n",
    "    \n",
    "    # Choose an option based on probabilities\n",
    "    choice = np.random.choice(options, p=probs)\n",
    "    return choice\n",
    "\n",
    "# Example usage\n",
    "probabilities = {'Option1': 0.4, 'Option2': 0.3, 'Option3': 0.2, 'Option4': 0.1}\n",
    "\n",
    "# Run the uncertain method multiple times to observe outcomes\n",
    "num_trials = 10\n",
    "for _ in range(num_trials):\n",
    "    print(uncertain_method(probabilities))\n"
   ]
  },
  {
   "cell_type": "code",
   "execution_count": null,
   "id": "a176e53b",
   "metadata": {},
   "outputs": [],
   "source": []
  },
  {
   "cell_type": "code",
   "execution_count": null,
   "id": "e0267947",
   "metadata": {},
   "outputs": [],
   "source": []
  }
 ],
 "metadata": {
  "kernelspec": {
   "display_name": "Python 3 (ipykernel)",
   "language": "python",
   "name": "python3"
  },
  "language_info": {
   "codemirror_mode": {
    "name": "ipython",
    "version": 3
   },
   "file_extension": ".py",
   "mimetype": "text/x-python",
   "name": "python",
   "nbconvert_exporter": "python",
   "pygments_lexer": "ipython3",
   "version": "3.11.5"
  }
 },
 "nbformat": 4,
 "nbformat_minor": 5
}
