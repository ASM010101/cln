{
 "cells": [
  {
   "cell_type": "code",
   "execution_count": 2,
   "id": "7301a4c7",
   "metadata": {},
   "outputs": [
    {
     "name": "stdout",
     "output_type": "stream",
     "text": [
      "You: hi\n",
      "Agent: I'm sorry, I didn't understand that.\n",
      "You: hello\n",
      "Agent: Hello! How can I help you?\n",
      "You: how are you\n",
      "Agent: I'm just a simple agent. How can I assist you?\n",
      "You: exit\n",
      "Exiting...\n"
     ]
    }
   ],
   "source": [
    "import random\n",
    "\n",
    "class SimpleAgent:\n",
    "    def __init__(self):\n",
    "        self.name = \"Simple Agent\"\n",
    "    \n",
    "    def respond_to_input(self, user_input):\n",
    "        \"\"\"\n",
    "        Method to respond to user input.\n",
    "        \"\"\"\n",
    "        if \"hello\" in user_input.lower():\n",
    "            return \"Hello! How can I help you?\"\n",
    "        elif \"how are you\" in user_input.lower():\n",
    "            return \"I'm just a simple agent. How can I assist you?\"\n",
    "        elif \"bye\" in user_input.lower():\n",
    "            return \"Goodbye! Have a nice day.\"\n",
    "        else:\n",
    "            return \"I'm sorry, I didn't understand that.\"\n",
    "\n",
    "# Create an instance of the agent\n",
    "agent = SimpleAgent()\n",
    "\n",
    "# Interact with the agent\n",
    "while True:\n",
    "    user_input = input(\"You: \")\n",
    "    if user_input.lower() == 'exit':\n",
    "        print(\"Exiting...\")\n",
    "        break\n",
    "    response = agent.respond_to_input(user_input)\n",
    "    print(\"Agent:\", response)\n"
   ]
  },
  {
   "cell_type": "code",
   "execution_count": null,
   "id": "6d54b44d",
   "metadata": {},
   "outputs": [],
   "source": [
    "from chatterbot import ChatBot\n",
    "from chatterbot.trainers import ChatterBotCorpusTrainer\n",
    "\n",
    "# Create a new chatbot\n",
    "chatbot = ChatBot('SimpleBot')\n",
    "\n",
    "# Create a new trainer for the chatbot\n",
    "trainer = ChatterBotCorpusTrainer(chatbot)\n",
    "\n",
    "# Train the chatbot based on the english corpus\n",
    "trainer.train('chatterbot.corpus.english')\n",
    "\n",
    "# Get a response from the chatbot\n",
    "response = chatbot.get_response('Hello, how are you?')\n",
    "\n",
    "print(response)\n"
   ]
  }
 ],
 "metadata": {
  "kernelspec": {
   "display_name": "Python 3 (ipykernel)",
   "language": "python",
   "name": "python3"
  },
  "language_info": {
   "codemirror_mode": {
    "name": "ipython",
    "version": 3
   },
   "file_extension": ".py",
   "mimetype": "text/x-python",
   "name": "python",
   "nbconvert_exporter": "python",
   "pygments_lexer": "ipython3",
   "version": "3.11.5"
  }
 },
 "nbformat": 4,
 "nbformat_minor": 5
}
