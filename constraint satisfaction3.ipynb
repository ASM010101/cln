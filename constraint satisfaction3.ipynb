{
 "cells": [
  {
   "cell_type": "code",
   "execution_count": 12,
   "id": "7a22f4b9",
   "metadata": {},
   "outputs": [],
   "source": [
    "class CSP: \n",
    "\tdef __init__(self, variables, Domains,constraints): \n",
    "\t\tself.variables = variables \n",
    "\t\tself.domains = Domains \n",
    "\t\tself.constraints = constraints \n",
    "\t\tself.solution = None\n",
    "\n",
    "\tdef solve(self): \n",
    "\t\tassignment = {} \n",
    "\t\tself.solution = self.backtrack(assignment) \n",
    "\t\treturn self.solution \n",
    "\n",
    "\tdef backtrack(self, assignment): \n",
    "\t\tif len(assignment) == len(self.variables): \n",
    "\t\t\treturn assignment \n",
    "\n",
    "\t\tvar = self.select_unassigned_variable(assignment) \n",
    "\t\tfor value in self.order_domain_values(var, assignment): \n",
    "\t\t\tif self.is_consistent(var, value, assignment): \n",
    "\t\t\t\tassignment[var] = value \n",
    "\t\t\t\tresult = self.backtrack(assignment) \n",
    "\t\t\t\tif result is not None: \n",
    "\t\t\t\t\treturn result \n",
    "\t\t\t\tdel assignment[var] \n",
    "\t\treturn None\n",
    "\n",
    "\tdef select_unassigned_variable(self, assignment): \n",
    "\t\tunassigned_vars = [var for var in self.variables if var not in assignment] \n",
    "\t\treturn min(unassigned_vars, key=lambda var: len(self.domains[var])) \n",
    "\n",
    "\tdef order_domain_values(self, var, assignment): \n",
    "\t\treturn self.domains[var] \n",
    "\n",
    "\tdef is_consistent(self, var, value, assignment): \n",
    "\t\tfor constraint_var in self.constraints[var]: \n",
    "\t\t\tif constraint_var in assignment and assignment[constraint_var] == value: \n",
    "\t\t\t\treturn False\n",
    "\t\treturn True\n"
   ]
  },
  {
   "cell_type": "code",
   "execution_count": 13,
   "id": "c629386c",
   "metadata": {},
   "outputs": [
    {
     "name": "stdout",
     "output_type": "stream",
     "text": [
      "5 3 0  | 0 7 0  | 0 0 0 \n",
      "6 0 0  | 1 9 5  | 0 0 0 \n",
      "0 9 8  | 0 0 0  | 0 6 0 \n",
      "- - - - - - - - - - - \n",
      "8 0 0  | 0 6 0  | 0 0 3 \n",
      "4 0 0  | 8 0 3  | 0 0 1 \n",
      "7 0 0  | 0 2 0  | 0 0 6 \n",
      "- - - - - - - - - - - \n",
      "0 6 0  | 0 0 0  | 2 8 0 \n",
      "0 0 0  | 4 1 9  | 0 0 5 \n",
      "0 0 0  | 0 8 0  | 0 0 0 \n"
     ]
    }
   ],
   "source": [
    "puzzle = [[5, 3, 0, 0, 7, 0, 0, 0, 0], \n",
    "\t\t[6, 0, 0, 1, 9, 5, 0, 0, 0], \n",
    "\t\t[0, 9, 8, 0, 0, 0, 0, 6, 0], \n",
    "\t\t[8, 0, 0, 0, 6, 0, 0, 0, 3], \n",
    "\t\t[4, 0, 0, 8, 0, 3, 0, 0, 1], \n",
    "\t\t[7, 0, 0, 0, 2, 0, 0, 0, 6], \n",
    "\t\t[0, 6, 0, 0, 0, 0, 2, 8, 0], \n",
    "\t\t[0, 0, 0, 4, 1, 9, 0, 0, 5], \n",
    "\t\t[0, 0, 0, 0, 8, 0, 0, 0, 0] \n",
    "\t\t] \n",
    "\n",
    "def print_sudoku(puzzle): \n",
    "\tfor i in range(9): \n",
    "\t\tif i % 3 == 0 and i != 0: \n",
    "\t\t\tprint(\"- - - - - - - - - - - \") \n",
    "\t\tfor j in range(9): \n",
    "\t\t\tif j % 3 == 0 and j != 0: \n",
    "\t\t\t\tprint(\" | \", end=\"\") \n",
    "\t\t\tprint(puzzle[i][j], end=\" \") \n",
    "\t\tprint() \n",
    "\n",
    "print_sudoku(puzzle)\n"
   ]
  },
  {
   "cell_type": "code",
   "execution_count": null,
   "id": "0323412b",
   "metadata": {},
   "outputs": [],
   "source": []
  }
 ],
 "metadata": {
  "kernelspec": {
   "display_name": "Python 3 (ipykernel)",
   "language": "python",
   "name": "python3"
  },
  "language_info": {
   "codemirror_mode": {
    "name": "ipython",
    "version": 3
   },
   "file_extension": ".py",
   "mimetype": "text/x-python",
   "name": "python",
   "nbconvert_exporter": "python",
   "pygments_lexer": "ipython3",
   "version": "3.11.5"
  }
 },
 "nbformat": 4,
 "nbformat_minor": 5
}
